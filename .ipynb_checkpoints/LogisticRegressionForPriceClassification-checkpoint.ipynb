{
 "cells": [
  {
   "cell_type": "code",
   "execution_count": 1,
   "id": "b95a4ea0",
   "metadata": {},
   "outputs": [],
   "source": [
    "import pandas as pd\n",
    "import matplotlib.pyplot as plt"
   ]
  },
  {
   "cell_type": "code",
   "execution_count": 2,
   "id": "680722d9",
   "metadata": {},
   "outputs": [
    {
     "data": {
      "text/html": [
       "<div>\n",
       "<style scoped>\n",
       "    .dataframe tbody tr th:only-of-type {\n",
       "        vertical-align: middle;\n",
       "    }\n",
       "\n",
       "    .dataframe tbody tr th {\n",
       "        vertical-align: top;\n",
       "    }\n",
       "\n",
       "    .dataframe thead th {\n",
       "        text-align: right;\n",
       "    }\n",
       "</style>\n",
       "<table border=\"1\" class=\"dataframe\">\n",
       "  <thead>\n",
       "    <tr style=\"text-align: right;\">\n",
       "      <th></th>\n",
       "      <th>longitude</th>\n",
       "      <th>latitude</th>\n",
       "      <th>housing_median_age</th>\n",
       "      <th>total_rooms</th>\n",
       "      <th>total_bedrooms</th>\n",
       "      <th>population</th>\n",
       "      <th>households</th>\n",
       "      <th>median_income</th>\n",
       "      <th>median_house_value</th>\n",
       "      <th>ocean_proximity</th>\n",
       "    </tr>\n",
       "  </thead>\n",
       "  <tbody>\n",
       "    <tr>\n",
       "      <th>16190</th>\n",
       "      <td>-121.29</td>\n",
       "      <td>37.96</td>\n",
       "      <td>48.0</td>\n",
       "      <td>1778.0</td>\n",
       "      <td>541.0</td>\n",
       "      <td>1237.0</td>\n",
       "      <td>462.0</td>\n",
       "      <td>1.3438</td>\n",
       "      <td>103100.0</td>\n",
       "      <td>INLAND</td>\n",
       "    </tr>\n",
       "    <tr>\n",
       "      <th>11485</th>\n",
       "      <td>-117.99</td>\n",
       "      <td>33.72</td>\n",
       "      <td>26.0</td>\n",
       "      <td>1787.0</td>\n",
       "      <td>275.0</td>\n",
       "      <td>801.0</td>\n",
       "      <td>270.0</td>\n",
       "      <td>5.5514</td>\n",
       "      <td>255700.0</td>\n",
       "      <td>&lt;1H OCEAN</td>\n",
       "    </tr>\n",
       "    <tr>\n",
       "      <th>16977</th>\n",
       "      <td>-122.31</td>\n",
       "      <td>37.57</td>\n",
       "      <td>31.0</td>\n",
       "      <td>2197.0</td>\n",
       "      <td>477.0</td>\n",
       "      <td>1193.0</td>\n",
       "      <td>394.0</td>\n",
       "      <td>4.6371</td>\n",
       "      <td>271100.0</td>\n",
       "      <td>NEAR OCEAN</td>\n",
       "    </tr>\n",
       "    <tr>\n",
       "      <th>11479</th>\n",
       "      <td>-118.02</td>\n",
       "      <td>33.73</td>\n",
       "      <td>24.0</td>\n",
       "      <td>6393.0</td>\n",
       "      <td>1141.0</td>\n",
       "      <td>2743.0</td>\n",
       "      <td>1057.0</td>\n",
       "      <td>5.1384</td>\n",
       "      <td>336900.0</td>\n",
       "      <td>&lt;1H OCEAN</td>\n",
       "    </tr>\n",
       "    <tr>\n",
       "      <th>15701</th>\n",
       "      <td>-122.44</td>\n",
       "      <td>37.79</td>\n",
       "      <td>52.0</td>\n",
       "      <td>3640.0</td>\n",
       "      <td>840.0</td>\n",
       "      <td>1525.0</td>\n",
       "      <td>796.0</td>\n",
       "      <td>4.4375</td>\n",
       "      <td>500001.0</td>\n",
       "      <td>NEAR BAY</td>\n",
       "    </tr>\n",
       "  </tbody>\n",
       "</table>\n",
       "</div>"
      ],
      "text/plain": [
       "       longitude  latitude  housing_median_age  total_rooms  total_bedrooms  \\\n",
       "16190    -121.29     37.96                48.0       1778.0           541.0   \n",
       "11485    -117.99     33.72                26.0       1787.0           275.0   \n",
       "16977    -122.31     37.57                31.0       2197.0           477.0   \n",
       "11479    -118.02     33.73                24.0       6393.0          1141.0   \n",
       "15701    -122.44     37.79                52.0       3640.0           840.0   \n",
       "\n",
       "       population  households  median_income  median_house_value  \\\n",
       "16190      1237.0       462.0         1.3438            103100.0   \n",
       "11485       801.0       270.0         5.5514            255700.0   \n",
       "16977      1193.0       394.0         4.6371            271100.0   \n",
       "11479      2743.0      1057.0         5.1384            336900.0   \n",
       "15701      1525.0       796.0         4.4375            500001.0   \n",
       "\n",
       "      ocean_proximity  \n",
       "16190          INLAND  \n",
       "11485       <1H OCEAN  \n",
       "16977      NEAR OCEAN  \n",
       "11479       <1H OCEAN  \n",
       "15701        NEAR BAY  "
      ]
     },
     "execution_count": 2,
     "metadata": {},
     "output_type": "execute_result"
    }
   ],
   "source": [
    "housing_data = pd.read_csv('datasets/kaggle-california-housing.csv')\n",
    "housing_data.sample(5)"
   ]
  },
  {
   "cell_type": "code",
   "execution_count": 3,
   "id": "581f8209",
   "metadata": {},
   "outputs": [],
   "source": [
    "housing_data.dropna(inplace=True)\n",
    "housing_data.shape"
   ]
  },
  {
   "cell_type": "code",
   "execution_count": null,
   "id": "5791f36d",
   "metadata": {},
   "outputs": [],
   "source": []
  },
  {
   "cell_type": "code",
   "execution_count": null,
   "id": "3a3eea6b",
   "metadata": {},
   "outputs": [],
   "source": [
    "housing_data = housing_data.drop(housing_data.loc[housing_data['median_house_value']==500001].index)"
   ]
  },
  {
   "cell_type": "code",
   "execution_count": null,
   "id": "53e58b94",
   "metadata": {},
   "outputs": [],
   "source": []
  }
 ],
 "metadata": {
  "kernelspec": {
   "display_name": "Python 3 (ipykernel)",
   "language": "python",
   "name": "python3"
  },
  "language_info": {
   "codemirror_mode": {
    "name": "ipython",
    "version": 3
   },
   "file_extension": ".py",
   "mimetype": "text/x-python",
   "name": "python",
   "nbconvert_exporter": "python",
   "pygments_lexer": "ipython3",
   "version": "3.9.7"
  }
 },
 "nbformat": 4,
 "nbformat_minor": 5
}
