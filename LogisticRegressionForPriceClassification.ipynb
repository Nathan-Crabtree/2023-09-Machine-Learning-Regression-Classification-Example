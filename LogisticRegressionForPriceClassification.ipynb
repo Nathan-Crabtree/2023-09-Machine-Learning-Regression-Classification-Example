{
 "cells": [
  {
   "cell_type": "code",
   "execution_count": 1,
   "id": "dc98e074",
   "metadata": {},
   "outputs": [],
   "source": [
    "import pandas as pd\n",
    "import matplotlib.pyplot as plt"
   ]
  },
  {
   "cell_type": "code",
   "execution_count": 2,
   "id": "cbaba6bc",
   "metadata": {},
   "outputs": [
    {
     "data": {
      "text/html": [
       "<div>\n",
       "<style scoped>\n",
       "    .dataframe tbody tr th:only-of-type {\n",
       "        vertical-align: middle;\n",
       "    }\n",
       "\n",
       "    .dataframe tbody tr th {\n",
       "        vertical-align: top;\n",
       "    }\n",
       "\n",
       "    .dataframe thead th {\n",
       "        text-align: right;\n",
       "    }\n",
       "</style>\n",
       "<table border=\"1\" class=\"dataframe\">\n",
       "  <thead>\n",
       "    <tr style=\"text-align: right;\">\n",
       "      <th></th>\n",
       "      <th>longitude</th>\n",
       "      <th>latitude</th>\n",
       "      <th>housing_median_age</th>\n",
       "      <th>total_rooms</th>\n",
       "      <th>total_bedrooms</th>\n",
       "      <th>population</th>\n",
       "      <th>households</th>\n",
       "      <th>median_income</th>\n",
       "      <th>median_house_value</th>\n",
       "      <th>ocean_proximity</th>\n",
       "    </tr>\n",
       "  </thead>\n",
       "  <tbody>\n",
       "    <tr>\n",
       "      <th>18769</th>\n",
       "      <td>-122.31</td>\n",
       "      <td>40.45</td>\n",
       "      <td>10.0</td>\n",
       "      <td>1187.0</td>\n",
       "      <td>236.0</td>\n",
       "      <td>728.0</td>\n",
       "      <td>248.0</td>\n",
       "      <td>2.0469</td>\n",
       "      <td>66800.0</td>\n",
       "      <td>INLAND</td>\n",
       "    </tr>\n",
       "    <tr>\n",
       "      <th>12862</th>\n",
       "      <td>-121.39</td>\n",
       "      <td>38.69</td>\n",
       "      <td>30.0</td>\n",
       "      <td>2897.0</td>\n",
       "      <td>506.0</td>\n",
       "      <td>1508.0</td>\n",
       "      <td>478.0</td>\n",
       "      <td>3.8650</td>\n",
       "      <td>88400.0</td>\n",
       "      <td>INLAND</td>\n",
       "    </tr>\n",
       "    <tr>\n",
       "      <th>12119</th>\n",
       "      <td>-117.21</td>\n",
       "      <td>33.97</td>\n",
       "      <td>3.0</td>\n",
       "      <td>18356.0</td>\n",
       "      <td>2537.0</td>\n",
       "      <td>8437.0</td>\n",
       "      <td>2342.0</td>\n",
       "      <td>5.6409</td>\n",
       "      <td>197700.0</td>\n",
       "      <td>INLAND</td>\n",
       "    </tr>\n",
       "    <tr>\n",
       "      <th>15028</th>\n",
       "      <td>-117.01</td>\n",
       "      <td>32.79</td>\n",
       "      <td>31.0</td>\n",
       "      <td>3776.0</td>\n",
       "      <td>815.0</td>\n",
       "      <td>1886.0</td>\n",
       "      <td>799.0</td>\n",
       "      <td>3.4421</td>\n",
       "      <td>155300.0</td>\n",
       "      <td>&lt;1H OCEAN</td>\n",
       "    </tr>\n",
       "    <tr>\n",
       "      <th>15225</th>\n",
       "      <td>-117.26</td>\n",
       "      <td>33.06</td>\n",
       "      <td>11.0</td>\n",
       "      <td>2660.0</td>\n",
       "      <td>352.0</td>\n",
       "      <td>1226.0</td>\n",
       "      <td>366.0</td>\n",
       "      <td>7.6832</td>\n",
       "      <td>319800.0</td>\n",
       "      <td>NEAR OCEAN</td>\n",
       "    </tr>\n",
       "  </tbody>\n",
       "</table>\n",
       "</div>"
      ],
      "text/plain": [
       "       longitude  latitude  housing_median_age  total_rooms  total_bedrooms  \\\n",
       "18769    -122.31     40.45                10.0       1187.0           236.0   \n",
       "12862    -121.39     38.69                30.0       2897.0           506.0   \n",
       "12119    -117.21     33.97                 3.0      18356.0          2537.0   \n",
       "15028    -117.01     32.79                31.0       3776.0           815.0   \n",
       "15225    -117.26     33.06                11.0       2660.0           352.0   \n",
       "\n",
       "       population  households  median_income  median_house_value  \\\n",
       "18769       728.0       248.0         2.0469             66800.0   \n",
       "12862      1508.0       478.0         3.8650             88400.0   \n",
       "12119      8437.0      2342.0         5.6409            197700.0   \n",
       "15028      1886.0       799.0         3.4421            155300.0   \n",
       "15225      1226.0       366.0         7.6832            319800.0   \n",
       "\n",
       "      ocean_proximity  \n",
       "18769          INLAND  \n",
       "12862          INLAND  \n",
       "12119          INLAND  \n",
       "15028       <1H OCEAN  \n",
       "15225      NEAR OCEAN  "
      ]
     },
     "execution_count": 2,
     "metadata": {},
     "output_type": "execute_result"
    }
   ],
   "source": [
    "housing_data = pd.read_csv('datasets/kaggle-california-housing.csv')\n",
    "housing_data.sample(5)"
   ]
  },
  {
   "cell_type": "code",
   "execution_count": 3,
   "id": "f2645f41",
   "metadata": {},
   "outputs": [
    {
     "data": {
      "text/plain": [
       "(20433, 10)"
      ]
     },
     "execution_count": 3,
     "metadata": {},
     "output_type": "execute_result"
    }
   ],
   "source": [
    "housing_data.dropna(inplace=True)\n",
    "housing_data.shape"
   ]
  },
  {
   "cell_type": "code",
   "execution_count": 4,
   "id": "c917c577",
   "metadata": {},
   "outputs": [],
   "source": [
    "#price data is capped at $500001, creating a skewed dataset\n",
    "housing_data = housing_data.drop(housing_data.loc[housing_data['median_house_value']==500001].index)"
   ]
  },
  {
   "cell_type": "code",
   "execution_count": 5,
   "id": "6fc89aaa",
   "metadata": {},
   "outputs": [
    {
     "data": {
      "text/plain": [
       "(19475, 10)"
      ]
     },
     "execution_count": 5,
     "metadata": {},
     "output_type": "execute_result"
    }
   ],
   "source": [
    "housing_data.shape"
   ]
  },
  {
   "cell_type": "code",
   "execution_count": 6,
   "id": "78f8c466",
   "metadata": {},
   "outputs": [
    {
     "data": {
      "text/plain": [
       "array(['NEAR BAY', '<1H OCEAN', 'INLAND', 'NEAR OCEAN', 'ISLAND'],\n",
       "      dtype=object)"
      ]
     },
     "execution_count": 6,
     "metadata": {},
     "output_type": "execute_result"
    }
   ],
   "source": [
    "housing_data['ocean_proximity'].unique()"
   ]
  },
  {
   "cell_type": "code",
   "execution_count": 7,
   "id": "d6d72d6d",
   "metadata": {},
   "outputs": [
    {
     "data": {
      "text/plain": [
       "(19475, 14)"
      ]
     },
     "execution_count": 7,
     "metadata": {},
     "output_type": "execute_result"
    }
   ],
   "source": [
    "#one hot encoding for categorical data, machine learning algorithms don't accept strings as input\n",
    "housing_data = pd.get_dummies(housing_data, columns=['ocean_proximity'])\n",
    "housing_data.shape\n"
   ]
  },
  {
   "cell_type": "code",
   "execution_count": 8,
   "id": "7b794a4c",
   "metadata": {},
   "outputs": [
    {
     "data": {
      "text/html": [
       "<div>\n",
       "<style scoped>\n",
       "    .dataframe tbody tr th:only-of-type {\n",
       "        vertical-align: middle;\n",
       "    }\n",
       "\n",
       "    .dataframe tbody tr th {\n",
       "        vertical-align: top;\n",
       "    }\n",
       "\n",
       "    .dataframe thead th {\n",
       "        text-align: right;\n",
       "    }\n",
       "</style>\n",
       "<table border=\"1\" class=\"dataframe\">\n",
       "  <thead>\n",
       "    <tr style=\"text-align: right;\">\n",
       "      <th></th>\n",
       "      <th>longitude</th>\n",
       "      <th>latitude</th>\n",
       "      <th>housing_median_age</th>\n",
       "      <th>total_rooms</th>\n",
       "      <th>total_bedrooms</th>\n",
       "      <th>population</th>\n",
       "      <th>households</th>\n",
       "      <th>median_income</th>\n",
       "      <th>median_house_value</th>\n",
       "      <th>ocean_proximity_&lt;1H OCEAN</th>\n",
       "      <th>ocean_proximity_INLAND</th>\n",
       "      <th>ocean_proximity_ISLAND</th>\n",
       "      <th>ocean_proximity_NEAR BAY</th>\n",
       "      <th>ocean_proximity_NEAR OCEAN</th>\n",
       "    </tr>\n",
       "  </thead>\n",
       "  <tbody>\n",
       "    <tr>\n",
       "      <th>16384</th>\n",
       "      <td>-121.28</td>\n",
       "      <td>38.02</td>\n",
       "      <td>8.0</td>\n",
       "      <td>1868.0</td>\n",
       "      <td>392.0</td>\n",
       "      <td>1258.0</td>\n",
       "      <td>389.0</td>\n",
       "      <td>3.1750</td>\n",
       "      <td>95900.0</td>\n",
       "      <td>0</td>\n",
       "      <td>1</td>\n",
       "      <td>0</td>\n",
       "      <td>0</td>\n",
       "      <td>0</td>\n",
       "    </tr>\n",
       "    <tr>\n",
       "      <th>5623</th>\n",
       "      <td>-118.26</td>\n",
       "      <td>33.77</td>\n",
       "      <td>36.0</td>\n",
       "      <td>886.0</td>\n",
       "      <td>253.0</td>\n",
       "      <td>809.0</td>\n",
       "      <td>219.0</td>\n",
       "      <td>2.4545</td>\n",
       "      <td>164200.0</td>\n",
       "      <td>0</td>\n",
       "      <td>0</td>\n",
       "      <td>0</td>\n",
       "      <td>0</td>\n",
       "      <td>1</td>\n",
       "    </tr>\n",
       "    <tr>\n",
       "      <th>19888</th>\n",
       "      <td>-119.16</td>\n",
       "      <td>36.28</td>\n",
       "      <td>18.0</td>\n",
       "      <td>2377.0</td>\n",
       "      <td>414.0</td>\n",
       "      <td>1359.0</td>\n",
       "      <td>424.0</td>\n",
       "      <td>4.4000</td>\n",
       "      <td>79300.0</td>\n",
       "      <td>0</td>\n",
       "      <td>1</td>\n",
       "      <td>0</td>\n",
       "      <td>0</td>\n",
       "      <td>0</td>\n",
       "    </tr>\n",
       "    <tr>\n",
       "      <th>3012</th>\n",
       "      <td>-118.95</td>\n",
       "      <td>34.83</td>\n",
       "      <td>18.0</td>\n",
       "      <td>3278.0</td>\n",
       "      <td>762.0</td>\n",
       "      <td>1338.0</td>\n",
       "      <td>550.0</td>\n",
       "      <td>2.9891</td>\n",
       "      <td>116500.0</td>\n",
       "      <td>0</td>\n",
       "      <td>1</td>\n",
       "      <td>0</td>\n",
       "      <td>0</td>\n",
       "      <td>0</td>\n",
       "    </tr>\n",
       "    <tr>\n",
       "      <th>4975</th>\n",
       "      <td>-118.28</td>\n",
       "      <td>34.00</td>\n",
       "      <td>44.0</td>\n",
       "      <td>2636.0</td>\n",
       "      <td>725.0</td>\n",
       "      <td>2182.0</td>\n",
       "      <td>651.0</td>\n",
       "      <td>1.4320</td>\n",
       "      <td>124000.0</td>\n",
       "      <td>1</td>\n",
       "      <td>0</td>\n",
       "      <td>0</td>\n",
       "      <td>0</td>\n",
       "      <td>0</td>\n",
       "    </tr>\n",
       "  </tbody>\n",
       "</table>\n",
       "</div>"
      ],
      "text/plain": [
       "       longitude  latitude  housing_median_age  total_rooms  total_bedrooms  \\\n",
       "16384    -121.28     38.02                 8.0       1868.0           392.0   \n",
       "5623     -118.26     33.77                36.0        886.0           253.0   \n",
       "19888    -119.16     36.28                18.0       2377.0           414.0   \n",
       "3012     -118.95     34.83                18.0       3278.0           762.0   \n",
       "4975     -118.28     34.00                44.0       2636.0           725.0   \n",
       "\n",
       "       population  households  median_income  median_house_value  \\\n",
       "16384      1258.0       389.0         3.1750             95900.0   \n",
       "5623        809.0       219.0         2.4545            164200.0   \n",
       "19888      1359.0       424.0         4.4000             79300.0   \n",
       "3012       1338.0       550.0         2.9891            116500.0   \n",
       "4975       2182.0       651.0         1.4320            124000.0   \n",
       "\n",
       "       ocean_proximity_<1H OCEAN  ocean_proximity_INLAND  \\\n",
       "16384                          0                       1   \n",
       "5623                           0                       0   \n",
       "19888                          0                       1   \n",
       "3012                           0                       1   \n",
       "4975                           1                       0   \n",
       "\n",
       "       ocean_proximity_ISLAND  ocean_proximity_NEAR BAY  \\\n",
       "16384                       0                         0   \n",
       "5623                        0                         0   \n",
       "19888                       0                         0   \n",
       "3012                        0                         0   \n",
       "4975                        0                         0   \n",
       "\n",
       "       ocean_proximity_NEAR OCEAN  \n",
       "16384                           0  \n",
       "5623                            1  \n",
       "19888                           0  \n",
       "3012                            0  \n",
       "4975                            0  "
      ]
     },
     "execution_count": 8,
     "metadata": {},
     "output_type": "execute_result"
    }
   ],
   "source": [
    " housing_data.sample(5)"
   ]
  },
  {
   "cell_type": "code",
   "execution_count": 9,
   "id": "258f326c",
   "metadata": {},
   "outputs": [
    {
     "data": {
      "text/plain": [
       "173800.0"
      ]
     },
     "execution_count": 9,
     "metadata": {},
     "output_type": "execute_result"
    }
   ],
   "source": [
    "median = housing_data['median_house_value'].median()\n",
    "median"
   ]
  },
  {
   "cell_type": "code",
   "execution_count": 10,
   "id": "0e1a8f37",
   "metadata": {},
   "outputs": [],
   "source": [
    "#adding boolean column for houses that are priced above median\n",
    "housing_data['above_median'] = (housing_data['median_house_value'] - median) > 0"
   ]
  },
  {
   "cell_type": "code",
   "execution_count": 12,
   "id": "c8a12603",
   "metadata": {},
   "outputs": [
    {
     "data": {
      "text/html": [
       "<div>\n",
       "<style scoped>\n",
       "    .dataframe tbody tr th:only-of-type {\n",
       "        vertical-align: middle;\n",
       "    }\n",
       "\n",
       "    .dataframe tbody tr th {\n",
       "        vertical-align: top;\n",
       "    }\n",
       "\n",
       "    .dataframe thead th {\n",
       "        text-align: right;\n",
       "    }\n",
       "</style>\n",
       "<table border=\"1\" class=\"dataframe\">\n",
       "  <thead>\n",
       "    <tr style=\"text-align: right;\">\n",
       "      <th></th>\n",
       "      <th>longitude</th>\n",
       "      <th>latitude</th>\n",
       "      <th>housing_median_age</th>\n",
       "      <th>total_rooms</th>\n",
       "      <th>total_bedrooms</th>\n",
       "      <th>population</th>\n",
       "      <th>households</th>\n",
       "      <th>median_income</th>\n",
       "      <th>median_house_value</th>\n",
       "      <th>ocean_proximity_&lt;1H OCEAN</th>\n",
       "      <th>ocean_proximity_INLAND</th>\n",
       "      <th>ocean_proximity_ISLAND</th>\n",
       "      <th>ocean_proximity_NEAR BAY</th>\n",
       "      <th>ocean_proximity_NEAR OCEAN</th>\n",
       "      <th>above_median</th>\n",
       "    </tr>\n",
       "  </thead>\n",
       "  <tbody>\n",
       "    <tr>\n",
       "      <th>12938</th>\n",
       "      <td>-121.27</td>\n",
       "      <td>38.66</td>\n",
       "      <td>19.0</td>\n",
       "      <td>1891.0</td>\n",
       "      <td>266.0</td>\n",
       "      <td>678.0</td>\n",
       "      <td>255.0</td>\n",
       "      <td>6.1872</td>\n",
       "      <td>188700.0</td>\n",
       "      <td>0</td>\n",
       "      <td>1</td>\n",
       "      <td>0</td>\n",
       "      <td>0</td>\n",
       "      <td>0</td>\n",
       "      <td>True</td>\n",
       "    </tr>\n",
       "    <tr>\n",
       "      <th>17277</th>\n",
       "      <td>-119.75</td>\n",
       "      <td>34.43</td>\n",
       "      <td>23.0</td>\n",
       "      <td>2982.0</td>\n",
       "      <td>837.0</td>\n",
       "      <td>1317.0</td>\n",
       "      <td>787.0</td>\n",
       "      <td>3.3776</td>\n",
       "      <td>283200.0</td>\n",
       "      <td>0</td>\n",
       "      <td>0</td>\n",
       "      <td>0</td>\n",
       "      <td>0</td>\n",
       "      <td>1</td>\n",
       "      <td>True</td>\n",
       "    </tr>\n",
       "    <tr>\n",
       "      <th>9733</th>\n",
       "      <td>-121.66</td>\n",
       "      <td>36.82</td>\n",
       "      <td>17.0</td>\n",
       "      <td>3921.0</td>\n",
       "      <td>654.0</td>\n",
       "      <td>1895.0</td>\n",
       "      <td>641.0</td>\n",
       "      <td>5.0092</td>\n",
       "      <td>238700.0</td>\n",
       "      <td>1</td>\n",
       "      <td>0</td>\n",
       "      <td>0</td>\n",
       "      <td>0</td>\n",
       "      <td>0</td>\n",
       "      <td>True</td>\n",
       "    </tr>\n",
       "    <tr>\n",
       "      <th>4278</th>\n",
       "      <td>-118.31</td>\n",
       "      <td>34.09</td>\n",
       "      <td>28.0</td>\n",
       "      <td>720.0</td>\n",
       "      <td>267.0</td>\n",
       "      <td>891.0</td>\n",
       "      <td>265.0</td>\n",
       "      <td>1.8977</td>\n",
       "      <td>100000.0</td>\n",
       "      <td>1</td>\n",
       "      <td>0</td>\n",
       "      <td>0</td>\n",
       "      <td>0</td>\n",
       "      <td>0</td>\n",
       "      <td>False</td>\n",
       "    </tr>\n",
       "    <tr>\n",
       "      <th>4304</th>\n",
       "      <td>-118.30</td>\n",
       "      <td>34.09</td>\n",
       "      <td>25.0</td>\n",
       "      <td>2345.0</td>\n",
       "      <td>852.0</td>\n",
       "      <td>2860.0</td>\n",
       "      <td>862.0</td>\n",
       "      <td>1.4497</td>\n",
       "      <td>205600.0</td>\n",
       "      <td>1</td>\n",
       "      <td>0</td>\n",
       "      <td>0</td>\n",
       "      <td>0</td>\n",
       "      <td>0</td>\n",
       "      <td>True</td>\n",
       "    </tr>\n",
       "  </tbody>\n",
       "</table>\n",
       "</div>"
      ],
      "text/plain": [
       "       longitude  latitude  housing_median_age  total_rooms  total_bedrooms  \\\n",
       "12938    -121.27     38.66                19.0       1891.0           266.0   \n",
       "17277    -119.75     34.43                23.0       2982.0           837.0   \n",
       "9733     -121.66     36.82                17.0       3921.0           654.0   \n",
       "4278     -118.31     34.09                28.0        720.0           267.0   \n",
       "4304     -118.30     34.09                25.0       2345.0           852.0   \n",
       "\n",
       "       population  households  median_income  median_house_value  \\\n",
       "12938       678.0       255.0         6.1872            188700.0   \n",
       "17277      1317.0       787.0         3.3776            283200.0   \n",
       "9733       1895.0       641.0         5.0092            238700.0   \n",
       "4278        891.0       265.0         1.8977            100000.0   \n",
       "4304       2860.0       862.0         1.4497            205600.0   \n",
       "\n",
       "       ocean_proximity_<1H OCEAN  ocean_proximity_INLAND  \\\n",
       "12938                          0                       1   \n",
       "17277                          0                       0   \n",
       "9733                           1                       0   \n",
       "4278                           1                       0   \n",
       "4304                           1                       0   \n",
       "\n",
       "       ocean_proximity_ISLAND  ocean_proximity_NEAR BAY  \\\n",
       "12938                       0                         0   \n",
       "17277                       0                         0   \n",
       "9733                        0                         0   \n",
       "4278                        0                         0   \n",
       "4304                        0                         0   \n",
       "\n",
       "       ocean_proximity_NEAR OCEAN  above_median  \n",
       "12938                           0          True  \n",
       "17277                           1          True  \n",
       "9733                            0          True  \n",
       "4278                            0         False  \n",
       "4304                            0          True  "
      ]
     },
     "execution_count": 12,
     "metadata": {},
     "output_type": "execute_result"
    }
   ],
   "source": [
    "housing_data.sample(5)"
   ]
  },
  {
   "cell_type": "code",
   "execution_count": 15,
   "id": "9e9eabd0",
   "metadata": {},
   "outputs": [],
   "source": [
    "#binary classification problem, 'above_median' column is either true or false\n",
    "X = housing_data.drop(['median_house_value', 'above_median'], axis=1)\n",
    "Y = housing_data['above_median']"
   ]
  },
  {
   "cell_type": "code",
   "execution_count": 16,
   "id": "0aba5508",
   "metadata": {},
   "outputs": [
    {
     "data": {
      "text/plain": [
       "Index(['longitude', 'latitude', 'housing_median_age', 'total_rooms',\n",
       "       'total_bedrooms', 'population', 'households', 'median_income',\n",
       "       'ocean_proximity_<1H OCEAN', 'ocean_proximity_INLAND',\n",
       "       'ocean_proximity_ISLAND', 'ocean_proximity_NEAR BAY',\n",
       "       'ocean_proximity_NEAR OCEAN'],\n",
       "      dtype='object')"
      ]
     },
     "execution_count": 16,
     "metadata": {},
     "output_type": "execute_result"
    }
   ],
   "source": [
    "X.columns"
   ]
  },
  {
   "cell_type": "code",
   "execution_count": 18,
   "id": "d39ba868",
   "metadata": {},
   "outputs": [],
   "source": [
    "from sklearn.model_selection import train_test_split\n",
    "x_train, x_test, y_train, y_test = train_test_split(X, Y, test_size = 0.2)"
   ]
  },
  {
   "cell_type": "code",
   "execution_count": 19,
   "id": "99135ec0",
   "metadata": {},
   "outputs": [
    {
     "data": {
      "text/plain": [
       "((15580, 13), (3895, 13))"
      ]
     },
     "execution_count": 19,
     "metadata": {},
     "output_type": "execute_result"
    }
   ],
   "source": [
    "x_train.shape, x_test.shape"
   ]
  },
  {
   "cell_type": "code",
   "execution_count": 20,
   "id": "923e001f",
   "metadata": {},
   "outputs": [
    {
     "data": {
      "text/plain": [
       "((15580,), (3895,))"
      ]
     },
     "execution_count": 20,
     "metadata": {},
     "output_type": "execute_result"
    }
   ],
   "source": [
    "y_train.shape, y_test.shape"
   ]
  },
  {
   "cell_type": "code",
   "execution_count": 23,
   "id": "5d1cb336",
   "metadata": {},
   "outputs": [],
   "source": [
    "#solver liblinear is good for binary classification and small datasets\n",
    "from sklearn.linear_model import LogisticRegression\n",
    "logistic_model = LogisticRegression(solver='liblinear').fit(x_train, y_train)"
   ]
  },
  {
   "cell_type": "code",
   "execution_count": 24,
   "id": "ae7d1283",
   "metadata": {},
   "outputs": [
    {
     "name": "stdout",
     "output_type": "stream",
     "text": [
      "Training Score:  0.8192554557124518\n"
     ]
    }
   ],
   "source": [
    "print('Training Score: ', logistic_model.score(x_train, y_train))"
   ]
  },
  {
   "cell_type": "code",
   "execution_count": 25,
   "id": "75e64dda",
   "metadata": {},
   "outputs": [],
   "source": [
    "y_pred = logistic_model.predict(x_test)"
   ]
  },
  {
   "cell_type": "code",
   "execution_count": 27,
   "id": "21a352a2",
   "metadata": {},
   "outputs": [
    {
     "data": {
      "text/html": [
       "<div>\n",
       "<style scoped>\n",
       "    .dataframe tbody tr th:only-of-type {\n",
       "        vertical-align: middle;\n",
       "    }\n",
       "\n",
       "    .dataframe tbody tr th {\n",
       "        vertical-align: top;\n",
       "    }\n",
       "\n",
       "    .dataframe thead th {\n",
       "        text-align: right;\n",
       "    }\n",
       "</style>\n",
       "<table border=\"1\" class=\"dataframe\">\n",
       "  <thead>\n",
       "    <tr style=\"text-align: right;\">\n",
       "      <th></th>\n",
       "      <th>predicted</th>\n",
       "      <th>actual</th>\n",
       "    </tr>\n",
       "  </thead>\n",
       "  <tbody>\n",
       "    <tr>\n",
       "      <th>15220</th>\n",
       "      <td>True</td>\n",
       "      <td>True</td>\n",
       "    </tr>\n",
       "    <tr>\n",
       "      <th>5811</th>\n",
       "      <td>False</td>\n",
       "      <td>True</td>\n",
       "    </tr>\n",
       "    <tr>\n",
       "      <th>12627</th>\n",
       "      <td>False</td>\n",
       "      <td>False</td>\n",
       "    </tr>\n",
       "    <tr>\n",
       "      <th>8757</th>\n",
       "      <td>True</td>\n",
       "      <td>True</td>\n",
       "    </tr>\n",
       "    <tr>\n",
       "      <th>2730</th>\n",
       "      <td>False</td>\n",
       "      <td>False</td>\n",
       "    </tr>\n",
       "    <tr>\n",
       "      <th>20049</th>\n",
       "      <td>False</td>\n",
       "      <td>False</td>\n",
       "    </tr>\n",
       "    <tr>\n",
       "      <th>14079</th>\n",
       "      <td>True</td>\n",
       "      <td>False</td>\n",
       "    </tr>\n",
       "    <tr>\n",
       "      <th>1514</th>\n",
       "      <td>True</td>\n",
       "      <td>True</td>\n",
       "    </tr>\n",
       "    <tr>\n",
       "      <th>11825</th>\n",
       "      <td>False</td>\n",
       "      <td>False</td>\n",
       "    </tr>\n",
       "    <tr>\n",
       "      <th>8048</th>\n",
       "      <td>True</td>\n",
       "      <td>True</td>\n",
       "    </tr>\n",
       "  </tbody>\n",
       "</table>\n",
       "</div>"
      ],
      "text/plain": [
       "       predicted  actual\n",
       "15220       True    True\n",
       "5811       False    True\n",
       "12627      False   False\n",
       "8757        True    True\n",
       "2730       False   False\n",
       "20049      False   False\n",
       "14079       True   False\n",
       "1514        True    True\n",
       "11825      False   False\n",
       "8048        True    True"
      ]
     },
     "execution_count": 27,
     "metadata": {},
     "output_type": "execute_result"
    }
   ],
   "source": [
    "#predicted vs actual values\n",
    "df_pred_actual = pd.DataFrame({'predicted':y_pred, 'actual':y_test})\n",
    "df_pred_actual.head(10)"
   ]
  },
  {
   "cell_type": "code",
   "execution_count": 28,
   "id": "8d028ea7",
   "metadata": {},
   "outputs": [
    {
     "name": "stdout",
     "output_type": "stream",
     "text": [
      "Testing Score:  0.8238767650834403\n"
     ]
    }
   ],
   "source": [
    "from sklearn.metrics import accuracy_score\n",
    "print(\"Testing Score: \", accuracy_score(y_test,y_pred))"
   ]
  },
  {
   "cell_type": "code",
   "execution_count": null,
   "id": "b18a32b5",
   "metadata": {},
   "outputs": [],
   "source": []
  }
 ],
 "metadata": {
  "kernelspec": {
   "display_name": "Python 3 (ipykernel)",
   "language": "python",
   "name": "python3"
  },
  "language_info": {
   "codemirror_mode": {
    "name": "ipython",
    "version": 3
   },
   "file_extension": ".py",
   "mimetype": "text/x-python",
   "name": "python",
   "nbconvert_exporter": "python",
   "pygments_lexer": "ipython3",
   "version": "3.9.7"
  }
 },
 "nbformat": 4,
 "nbformat_minor": 5
}
